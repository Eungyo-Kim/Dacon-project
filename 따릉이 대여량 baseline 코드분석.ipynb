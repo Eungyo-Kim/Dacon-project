{
 "cells": [
  {
   "cell_type": "code",
   "execution_count": null,
   "metadata": {},
   "outputs": [],
   "source": [
    "# 라이브러리 불러오기\n",
    "import pandas as pd #데이터를 처리하는 라이브러리인 pandas를 불러옴\n",
    "import numpy as np #연산을 위한 numpy 라이브러리를 불러옴\n",
    "from sklearn.linear_model import LinearRegression #sklearn 라이브러리에서 선형회귀(Linear Regression) 모델 임포트\n",
    "from sklearn.model_selection import train_test_split #sklearn 라이브러리에서 train, test set를 분류하는 함수 임포트\n",
    "from sklearn.metrics import mean_absolute_error #sklearn 라이브러리에서 평균 절대 오차를 계산하는 함수 임포트"
   ]
  }
 ],
 "metadata": {
  "language_info": {
   "name": "python"
  }
 },
 "nbformat": 4,
 "nbformat_minor": 2
}
