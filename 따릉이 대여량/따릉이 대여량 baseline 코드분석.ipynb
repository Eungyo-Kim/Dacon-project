{
 "cells": [
  {
   "cell_type": "code",
   "execution_count": 2,
   "metadata": {},
   "outputs": [
    {
     "name": "stdout",
     "output_type": "stream",
     "text": [
      "<class 'pandas.core.frame.DataFrame'>\n",
      "RangeIndex: 273 entries, 0 to 272\n",
      "Data columns (total 10 columns):\n",
      " #   Column                     Non-Null Count  Dtype  \n",
      "---  ------                     --------------  -----  \n",
      " 0   date_time                  273 non-null    object \n",
      " 1   wind_direction             273 non-null    float64\n",
      " 2   sky_condition              273 non-null    float64\n",
      " 3   precipitation_form         273 non-null    float64\n",
      " 4   wind_speed                 273 non-null    float64\n",
      " 5   humidity                   273 non-null    float64\n",
      " 6   low_temp                   273 non-null    float64\n",
      " 7   high_temp                  273 non-null    float64\n",
      " 8   Precipitation_Probability  273 non-null    float64\n",
      " 9   number_of_rentals          273 non-null    int64  \n",
      "dtypes: float64(8), int64(1), object(1)\n",
      "memory usage: 21.5+ KB\n",
      "None\n",
      "    date_time  wind_direction  sky_condition  precipitation_form  wind_speed  \\\n",
      "0  2018-04-01         207.500          4.000               0.000       3.050   \n",
      "1  2018-04-02         208.317          2.950               0.000       3.278   \n",
      "2  2018-04-03         213.516          2.911               0.000       2.690   \n",
      "3  2018-04-04         143.836          3.692               0.425       3.138   \n",
      "4  2018-04-05          95.905          4.000               0.723       3.186   \n",
      "\n",
      "   humidity  low_temp  high_temp  Precipitation_Probability  number_of_rentals  \n",
      "0    75.000    12.600     21.000                     30.000              22994  \n",
      "1    69.833    12.812     19.000                     19.500              28139  \n",
      "2    74.879    10.312     15.316                     19.113              26817  \n",
      "3    71.849     8.312     12.368                     43.493              26034  \n",
      "4    73.784     5.875     10.421                     63.378               2833  \n"
     ]
    }
   ],
   "source": [
    "\"\"\"라이브러리 불러오기\"\"\"\n",
    "import pandas as pd #데이터를 처리하는 라이브러리인 pandas를 불러옴\n",
    "import numpy as np #연산을 위한 numpy 라이브러리를 불러옴\n",
    "from sklearn.linear_model import LinearRegression #sklearn 라이브러리에서 선형회귀(Linear Regression) 모델 임포트\n",
    "from sklearn.model_selection import train_test_split #sklearn 라이브러리에서 train, test set를 분류하는 함수 임포트\n",
    "from sklearn.metrics import mean_absolute_error #sklearn 라이브러리에서 평균 절대 오차를 계산하는 함수 임포트\n",
    "\n",
    "\"\"\"데이터 불러오기\"\"\"\n",
    "train = pd.read_csv(\"train.csv\")\n",
    "test = pd.read_csv(\"test.csv\")\n",
    "submission = pd.read_csv(\"sample_submission.csv\")\n",
    "\n",
    "print(train.info())\n",
    "print(train.head())"
   ]
  },
  {
   "cell_type": "code",
   "execution_count": null,
   "metadata": {},
   "outputs": [
    {
     "name": "stdout",
     "output_type": "stream",
     "text": [
      "모델 Train NMAE: 0.3051150098891526\n",
      "모델 Validation NMAE: 0.30211693027453346\n",
      "Baseline submission file saved.\n"
     ]
    }
   ],
   "source": [
    "\"\"\"데이터 전처리\"\"\"\n",
    "X = train.drop(columns=[\"number_of_rentals\", \"date_time\"])\n",
    "#학습 데이터에서 예측값인 number_of_rentals와 영향을 주지 않는 date_time을 학습대상에서 제외, 나머지를 X로 지정\n",
    "\n",
    "y = train[\"number_of_rentals\"] #target 지정\n",
    "X_test = test.drop(columns=[\"date_time\"]) #테스트 데이터에서 date_time을 제외한 나머지를 X_test로 지정\n",
    "\n",
    "X_train, X_valid, y_train, y_valid = train_test_split(X, y, test_size=0.2, random_state=42)\n",
    "#교차검증을 위해 train 데이터를 train과 valid로 나눔\n",
    "\n",
    "\"\"\"훈련 및 예측\"\"\"\n",
    "model = LinearRegression() #선형회귀 모델 사용\n",
    "model.fit(X_train, y_train)\n",
    "\n",
    "train_pred = model.predict(X_train) \n",
    "valid_pred = model.predict(X_valid)\n",
    "test_pred = model.predict(X_test)\n",
    "#예측한 값을 저장함.\n",
    "\n",
    "\n",
    "\"\"\"평균절대오차 계산 (평가지표-NMAE)\"\"\"\n",
    "\n",
    "def NMAE(true, pred):\n",
    "    return np.mean(np.abs(true - pred)) / np.mean(true)\n",
    "    #평균 절대 오차를 계산하는 함수 NMAE 정의 (평균 절대 오차 / 평균값)\n",
    "\n",
    "nmae_train = NMAE(y_train, train_pred) #train 데이터에 대한 평균절대오차 계산\n",
    "nmae_valid = NMAE(y_valid, valid_pred) #valid 데이터에 대한 평균절대오차 계산\n",
    "print(f\"모델 Train NMAE: {nmae_train}\") #train 데이터에 대한 평균절대오차 출력\n",
    "print(f\"모델 Validation NMAE: {nmae_valid}\") #valid 데이터에 대한 평균절대오차 출력\n",
    "\n",
    "\"\"\"제출 파일 생성\"\"\"\n",
    "\n",
    "submission[\"number_of_rentals\"] = test_pred #예측한 값 삽입\n",
    "submission.to_csv(\"baseline_submission.csv\", index=False) #파일 저장, 행번호는 저장하지 않음\n",
    "print(\"Baseline submission file saved.\")"
   ]
  }
 ],
 "metadata": {
  "kernelspec": {
   "display_name": "base",
   "language": "python",
   "name": "python3"
  },
  "language_info": {
   "codemirror_mode": {
    "name": "ipython",
    "version": 3
   },
   "file_extension": ".py",
   "mimetype": "text/x-python",
   "name": "python",
   "nbconvert_exporter": "python",
   "pygments_lexer": "ipython3",
   "version": "3.12.7"
  }
 },
 "nbformat": 4,
 "nbformat_minor": 2
}
