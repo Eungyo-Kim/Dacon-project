{
 "cells": [
  {
   "cell_type": "code",
   "execution_count": 2,
   "id": "8b2bcd25",
   "metadata": {},
   "outputs": [],
   "source": [
    "import pandas as pd\n",
    "import numpy as np\n",
    "\n",
    "train=pd.read_csv('train.csv')\n",
    "test=pd.read_csv('test.csv')"
   ]
  },
  {
   "cell_type": "code",
   "execution_count": 3,
   "id": "58c3d3cc",
   "metadata": {},
   "outputs": [],
   "source": [
    "from sklearn.linear_model import LinearRegression #sklearn 라이브러리에서 선형회귀(Linear Regression) 모델 임포트\n",
    "from sklearn.metrics import mean_absolute_error #sklearn 라이브러리에서 평균 절대 오차를 계산하는 함수 임포트\n",
    "from sklearn.model_selection import train_test_split #sklearn 라이브러리에서 train_test_split 함수 임포트\n",
    "\n",
    "X=train.drop(columns=['number_of_rentals', 'date_time'])\n",
    "X_test=test.drop(columns=['date_time'])\n",
    "\n",
    "y=train['number_of_rentals']\n",
    "\n",
    "X_train, X_valid, y_train, y_valid = train_test_split(X, y, test_size=0.2, random_state=42)"
   ]
  },
  {
   "cell_type": "code",
   "execution_count": 4,
   "id": "dd8cb9c9",
   "metadata": {},
   "outputs": [],
   "source": [
    "model=LinearRegression()\n",
    "model.fit(X_train, y_train) #train set으로 모델 학습\n",
    "\n",
    "train_pred=model.predict(X_train) #train set으로 예측값 생성\n",
    "train_valid=model.predict(X_valid) #valid set으로 예측값 생성\n",
    "test_pred=model.predict(X_test) #test set으로 예측값 생성"
   ]
  },
  {
   "cell_type": "code",
   "execution_count": 5,
   "id": "0ab648d4",
   "metadata": {},
   "outputs": [
    {
     "name": "stdout",
     "output_type": "stream",
     "text": [
      "train nmae: 0.4948717216500402\n",
      "valid nmae: 0.5649870456342565\n"
     ]
    }
   ],
   "source": [
    "def NMAE(true, pred):\n",
    "    return np.mean(np.abs(true - pred) / true)\n",
    "\n",
    "train_nmae=NMAE(y_train, train_pred)\n",
    "valid_nmae=NMAE(y_valid, train_valid)\n",
    "\n",
    "print('train nmae:', train_nmae) #train set의 평균 절대 오차 출력\n",
    "print('valid nmae:', valid_nmae) #valid set의 평균 절대 오차 출력"
   ]
  },
  {
   "cell_type": "code",
   "execution_count": 6,
   "id": "8eda64e0",
   "metadata": {},
   "outputs": [
    {
     "name": "stdout",
     "output_type": "stream",
     "text": [
      "                     Feature    Importance\n",
      "2         precipitation_form  61052.604686\n",
      "1              sky_condition  11651.374424\n",
      "6                  high_temp   1663.926739\n",
      "4                   humidity    156.141986\n",
      "0             wind_direction     71.392435\n",
      "5                   low_temp   -510.588056\n",
      "7  Precipitation_Probability  -1746.762206\n",
      "3                 wind_speed  -8970.411005\n"
     ]
    }
   ],
   "source": [
    "# 가중치 중요도 확인\n",
    "importance = model.coef_\n",
    "features = X.columns\n",
    "\n",
    "# 가중치 중요도를 데이터프레임으로 변환\n",
    "importance_df = pd.DataFrame({\n",
    "    'Feature': features,\n",
    "    'Importance': importance\n",
    "}).sort_values(by='Importance', ascending=False)\n",
    "\n",
    "# 출력\n",
    "print(importance_df)"
   ]
  },
  {
   "cell_type": "code",
   "execution_count": 11,
   "id": "bd05d25c",
   "metadata": {},
   "outputs": [
    {
     "name": "stdout",
     "output_type": "stream",
     "text": [
      "train nmae: 0.48713921544766986\n",
      "valid nmae: 0.7276430794553486\n"
     ]
    },
    {
     "name": "stderr",
     "output_type": "stream",
     "text": [
      "c:\\anaconda3\\Lib\\site-packages\\sklearn\\linear_model\\_coordinate_descent.py:695: ConvergenceWarning: Objective did not converge. You might want to increase the number of iterations, check the scale of the features or consider increasing regularisation. Duality gap: 2.359e+10, tolerance: 1.566e+07\n",
      "  model = cd_fast.enet_coordinate_descent(\n",
      "c:\\anaconda3\\Lib\\site-packages\\sklearn\\linear_model\\_coordinate_descent.py:695: ConvergenceWarning: Objective did not converge. You might want to increase the number of iterations, check the scale of the features or consider increasing regularisation. Duality gap: 1.064e+10, tolerance: 5.145e+06\n",
      "  model = cd_fast.enet_coordinate_descent(\n"
     ]
    }
   ],
   "source": [
    "from sklearn.preprocessing import StandardScaler\n",
    "from sklearn.linear_model import Lasso\n",
    "from sklearn.model_selection import train_test_split #sklearn 라이브러리에서 train, test set를 분류하는 함수 임포트\n",
    "\n",
    "X=train.drop(columns=['number_of_rentals', 'date_time'])\n",
    "X_test=test.drop(columns=['date_time'])\n",
    "\n",
    "y=train['number_of_rentals']\n",
    "\n",
    "\n",
    "X_train, X_valid, y_train, y_valid = train_test_split(X, y, test_size=0.2, random_state=42)\n",
    "\n",
    "\n",
    "sc = StandardScaler()\n",
    "X_train_scaled = sc.fit_transform(X_train)\n",
    "X_valid_scaled = sc.transform(X_valid)\n",
    "X_test_scaled = sc.transform(X_test)\n",
    "\n",
    "# 모델 학습 (alpha 값 조정 가능)\n",
    "lasso_model = Lasso(alpha=0.01, random_state=42)\n",
    "lasso_model.fit(X_train_scaled, y_train)\n",
    "lasso_model.fit(X_valid_scaled, y_valid)\n",
    "\n",
    "# 예측\n",
    "y_train_pred = lasso_model.predict(X_train_scaled)\n",
    "y_valid_pred = lasso_model.predict(X_valid_scaled)\n",
    "\n",
    "def NMAE(true, pred):\n",
    "    return np.mean(np.abs(true - pred) / true)\n",
    "\n",
    "train_nmae=NMAE(y_train, y_train_pred)\n",
    "valid_nmae=NMAE(y_valid, y_valid_pred)\n",
    "\n",
    "print('train nmae:', train_nmae) #train set의 평균 절대 오차 출력\n",
    "print('valid nmae:', valid_nmae) #valid set의 평균 절대 오차 출력\n"
   ]
  },
  {
   "cell_type": "code",
   "execution_count": 17,
   "id": "601ee85c",
   "metadata": {},
   "outputs": [
    {
     "name": "stdout",
     "output_type": "stream",
     "text": [
      "train nmae: 0.4949467949085152\n",
      "valid nmae: 0.5645318138154609\n"
     ]
    },
    {
     "name": "stderr",
     "output_type": "stream",
     "text": [
      "c:\\anaconda3\\Lib\\site-packages\\sklearn\\linear_model\\_coordinate_descent.py:695: ConvergenceWarning: Objective did not converge. You might want to increase the number of iterations, check the scale of the features or consider increasing regularisation. Duality gap: 2.281e+07, tolerance: 1.566e+07\n",
      "  model = cd_fast.enet_coordinate_descent(\n"
     ]
    }
   ],
   "source": [
    "from sklearn.preprocessing import StandardScaler\n",
    "from sklearn.linear_model import Lasso\n",
    "from sklearn.model_selection import train_test_split\n",
    "from sklearn.metrics import mean_absolute_error\n",
    "import numpy as np\n",
    "\n",
    "X = train.drop(columns=['number_of_rentals', 'date_time'])\n",
    "y = train['number_of_rentals']\n",
    "\n",
    "# train, valid 분할\n",
    "X_train, X_valid, y_train, y_valid = train_test_split(X, y, test_size=0.2, random_state=42)\n",
    "\n",
    "# 스케일링\n",
    "sc = StandardScaler()\n",
    "X_train_scaled = sc.fit_transform(X_train)\n",
    "X_valid_scaled = sc.transform(X_valid)\n",
    "X_test_scaled = sc.transform(test.drop(columns=['date_time']))\n",
    "\n",
    "# 모델 학습 (훈련 데이터로만!)\n",
    "lasso_model = Lasso(alpha=1.0, random_state=42)\n",
    "lasso_model.fit(X_train_scaled, y_train)\n",
    "\n",
    "# 예측 (검증 데이터로만 평가)\n",
    "y_train_pred = lasso_model.predict(X_train_scaled)\n",
    "y_valid_pred = lasso_model.predict(X_valid_scaled)\n",
    "\n",
    "# NMAE 계산\n",
    "def NMAE(true, pred):\n",
    "    return np.mean(np.abs(true - pred) / true)\n",
    "\n",
    "train_nmae=NMAE(y_train, y_train_pred)\n",
    "valid_nmae=NMAE(y_valid, y_valid_pred)\n",
    "\n",
    "\n",
    "print('train nmae:', train_nmae)\n",
    "print('valid nmae:', valid_nmae)\n"
   ]
  }
 ],
 "metadata": {
  "kernelspec": {
   "display_name": "base",
   "language": "python",
   "name": "python3"
  },
  "language_info": {
   "codemirror_mode": {
    "name": "ipython",
    "version": 3
   },
   "file_extension": ".py",
   "mimetype": "text/x-python",
   "name": "python",
   "nbconvert_exporter": "python",
   "pygments_lexer": "ipython3",
   "version": "3.12.7"
  }
 },
 "nbformat": 4,
 "nbformat_minor": 5
}
