{
 "cells": [
  {
   "cell_type": "code",
   "execution_count": 15,
   "id": "b2ae36a9",
   "metadata": {},
   "outputs": [],
   "source": [
    "import pandas as pd\n",
    "import numpy as np\n",
    "\n",
    "train=pd.read_csv('train.csv')\n",
    "test=pd.read_csv('test.csv')\n",
    "submission=pd.read_csv('sample_submission.csv')"
   ]
  },
  {
   "cell_type": "code",
   "execution_count": 9,
   "id": "9e8679d5",
   "metadata": {},
   "outputs": [
    {
     "name": "stdout",
     "output_type": "stream",
     "text": [
      "Index(['date_time', 'wind_direction', 'sky_condition', 'precipitation_form',\n",
      "       'wind_speed', 'humidity', 'low_temp', 'high_temp',\n",
      "       'Precipitation_Probability', 'number_of_rentals'],\n",
      "      dtype='object')\n"
     ]
    }
   ],
   "source": [
    "print(train.columns)"
   ]
  },
  {
   "cell_type": "code",
   "execution_count": 88,
   "id": "6f7e414c",
   "metadata": {},
   "outputs": [
    {
     "name": "stdout",
     "output_type": "stream",
     "text": [
      "Train NMAE: 0.09773892587545559\n",
      "Validation NMAE: 0.21523573791214984\n",
      "train r2 score: 0.9703631401062012\n",
      "valid r2 score: 0.8248942494392395\n"
     ]
    }
   ],
   "source": [
    "import pandas as pd\n",
    "import numpy as np\n",
    "\n",
    "train=pd.read_csv('train.csv')\n",
    "test=pd.read_csv('test.csv')\n",
    "submission=pd.read_csv('sample_submission.csv')\n",
    "\n",
    "\n",
    "import xgboost as xgb\n",
    "\n",
    "# 데이터 로드 및 분할\n",
    "\n",
    "def year(date_time):\n",
    "    return int(date_time[:4])\n",
    "\n",
    "def month(date_time):\n",
    "    return int(date_time[5:7])\n",
    "\n",
    "#적용\n",
    "train['year'] = train['date_time'].apply(year)\n",
    "test['year'] = test['date_time'].apply(year)\n",
    "\n",
    "train['month'] = train['date_time'].apply(month)\n",
    "test['month'] = test['date_time'].apply(month)\n",
    "\n",
    "#date_time 제거\n",
    "train=train.drop(['date_time'], axis=1)\n",
    "test=test.drop(['date_time'], axis=1)\n",
    "\n",
    "X=train.drop(columns=['number_of_rentals', 'wind_direction'])\n",
    "test=test.drop(columns=['wind_direction'])\n",
    "y=train['number_of_rentals']\n",
    "\n",
    "from sklearn.model_selection import KFold\n",
    "kf = KFold(n_splits=5, shuffle=True, random_state=42)\n",
    "for train_idx, valid_idx in kf.split(X):\n",
    "    X_train, X_valid = X.iloc[train_idx], X.iloc[valid_idx]\n",
    "    y_train, y_valid = y.iloc[train_idx], y.iloc[valid_idx]\n",
    "\n",
    "# 모델 설정 및 학습\n",
    "model = xgb.XGBRegressor(objective='reg:squarederror', max_depth=3, learning_rate=0.1, n_estimators=50)\n",
    "model.fit(X_train, y_train)\n",
    "\n",
    "# 예측 수행\n",
    "train_pred=model.predict(X_train)\n",
    "valid_pred=model.predict(X_valid)\n",
    "test_pred=model.predict(test)\n",
    "\n",
    "#평가\n",
    "def nmae(y_true, y_pred):\n",
    "    return np.mean(np.abs((y_true - y_pred) / y_true))\n",
    "\n",
    "train_nmae = nmae(y_train, train_pred)\n",
    "valid_nmae = nmae(y_valid, valid_pred)\n",
    "\n",
    "print(f\"Train NMAE: {train_nmae:}\")\n",
    "print(f\"Validation NMAE: {valid_nmae:}\")\n",
    "\n",
    "\n",
    "from sklearn.metrics import r2_score\n",
    "train_r2 = r2_score(y_train, train_pred)\n",
    "print(f\"train r2 score: {train_r2}\")\n",
    "valid_r2= r2_score(y_valid, valid_pred)\n",
    "print(f\"valid r2 score: {valid_r2}\")\n",
    "\n",
    "submission['number_of_rentals']=test_pred\n",
    "submission.to_csv('XGB2_submission.csv', index=False)"
   ]
  },
  {
   "cell_type": "code",
   "execution_count": 35,
   "id": "d6a6389a",
   "metadata": {},
   "outputs": [
    {
     "name": "stdout",
     "output_type": "stream",
     "text": [
      "Fitting 5 folds for each of 27 candidates, totalling 135 fits\n",
      "Best Parameters: {'learning_rate': 0.01, 'max_depth': 3, 'n_estimators': 50}\n",
      "Best Score: 0.6063292935071838\n"
     ]
    }
   ],
   "source": [
    "import os\n",
    "import pandas as pd\n",
    "\n",
    "from sklearn.model_selection import GridSearchCV\n",
    "\n",
    "# XGBRegressor 모델 설정\n",
    "model = xgb.XGBRegressor()\n",
    "\n",
    "# 그리드 서치 하이퍼파라미터 설정\n",
    "param_grid = {\n",
    "    'max_depth': [3, 5, 7],\n",
    "    'learning_rate': [0.01, 0.05, 0.1],\n",
    "    'n_estimators': [50, 100, 200],\n",
    "}\n",
    "\n",
    "####\n",
    "from sklearn.metrics import make_scorer\n",
    "\n",
    "def nmae_score(y_true, y_pred):\n",
    "    y_true = np.where(y_true == 0, 1, y_true)  # 0 나눗셈 방지\n",
    "    return -np.mean(np.abs((y_true - y_pred) / y_true))  # GridSearch용 음수 반환\n",
    "\n",
    "nmae_scorer = make_scorer(nmae_score, greater_is_better=False)\n",
    "\n",
    "grid_search = GridSearchCV(estimator=model, param_grid=param_grid,\n",
    "                           scoring=nmae_scorer, cv=5, verbose=1, n_jobs=1)\n",
    "\n",
    "# 모델 학습\n",
    "grid_search.fit(X_train, y_train)\n",
    "\n",
    "# 최적의 하이퍼파라미터 출력\n",
    "print(\"Best Parameters:\", grid_search.best_params_)\n",
    "print(\"Best Score:\", grid_search.best_score_)\n",
    "\n"
   ]
  }
 ],
 "metadata": {
  "kernelspec": {
   "display_name": "base",
   "language": "python",
   "name": "python3"
  },
  "language_info": {
   "codemirror_mode": {
    "name": "ipython",
    "version": 3
   },
   "file_extension": ".py",
   "mimetype": "text/x-python",
   "name": "python",
   "nbconvert_exporter": "python",
   "pygments_lexer": "ipython3",
   "version": "3.12.7"
  }
 },
 "nbformat": 4,
 "nbformat_minor": 5
}
