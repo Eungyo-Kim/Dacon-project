{
 "cells": [
  {
   "cell_type": "code",
   "execution_count": 2,
   "id": "4dbbe957",
   "metadata": {},
   "outputs": [],
   "source": [
    "import pandas as pd\n",
    "import numpy as np\n",
    "\n",
    "train=pd.read_csv('train.csv')\n",
    "test=pd.read_csv('test.csv')"
   ]
  },
  {
   "cell_type": "code",
   "execution_count": 8,
   "id": "67ebb700",
   "metadata": {},
   "outputs": [
    {
     "name": "stdout",
     "output_type": "stream",
     "text": [
      "train nmae: 0.3051162501619611\n",
      "valid nmae: 0.3021020230072927\n"
     ]
    },
    {
     "name": "stderr",
     "output_type": "stream",
     "text": [
      "c:\\anaconda3\\Lib\\site-packages\\sklearn\\linear_model\\_coordinate_descent.py:695: ConvergenceWarning: Objective did not converge. You might want to increase the number of iterations, check the scale of the features or consider increasing regularisation. Duality gap: 2.281e+07, tolerance: 1.566e+07\n",
      "  model = cd_fast.enet_coordinate_descent(\n"
     ]
    }
   ],
   "source": [
    "from sklearn.preprocessing import StandardScaler\n",
    "from sklearn.linear_model import Lasso\n",
    "from sklearn.model_selection import train_test_split\n",
    "from sklearn.metrics import mean_absolute_error\n",
    "import numpy as np\n",
    "\n",
    "X = train.drop(columns=['number_of_rentals', 'date_time'])\n",
    "y = train['number_of_rentals']\n",
    "\n",
    "# train, valid 분할\n",
    "X_train, X_valid, y_train, y_valid = train_test_split(X, y, test_size=0.2, random_state=42)\n",
    "\n",
    "# X 데이터만 스케일링하기 (y는 스케일링하지 않음)\n",
    "sc = StandardScaler()\n",
    "X_train_scaled = sc.fit_transform(X_train)\n",
    "X_valid_scaled = sc.transform(X_valid)\n",
    "X_test_scaled = sc.transform(test.drop(columns=['date_time']))\n",
    "\n",
    "# 모델 학습 (훈련 데이터로만!)\n",
    "lasso_model = Lasso(alpha=1.0, random_state=42)\n",
    "lasso_model.fit(X_train_scaled, y_train)\n",
    "\n",
    "# 예측 (검증 데이터로만 평가)\n",
    "y_train_pred = lasso_model.predict(X_train_scaled)\n",
    "y_valid_pred = lasso_model.predict(X_valid_scaled)\n",
    "\n",
    "# NMAE 계산 (y를 스케일링하지 않았으니 원래 값으로 비교하면 됨)\n",
    "nmae_train = mean_absolute_error(y_train, y_train_pred) / np.mean(y_train)\n",
    "nmae_valid = mean_absolute_error(y_valid, y_valid_pred) / np.mean(y_valid)\n",
    "\n",
    "print('train nmae:', nmae_train)\n",
    "print('valid nmae:', nmae_valid)\n"
   ]
  },
  {
   "cell_type": "code",
   "execution_count": 9,
   "id": "b8d5de66",
   "metadata": {},
   "outputs": [
    {
     "name": "stdout",
     "output_type": "stream",
     "text": [
      "선택된 특성들: ['wind_direction' 'sky_condition' 'precipitation_form' 'wind_speed'\n",
      " 'humidity' 'low_temp' 'high_temp' 'Precipitation_Probability']\n"
     ]
    },
    {
     "name": "stderr",
     "output_type": "stream",
     "text": [
      "c:\\anaconda3\\Lib\\site-packages\\sklearn\\linear_model\\_coordinate_descent.py:695: ConvergenceWarning: Objective did not converge. You might want to increase the number of iterations, check the scale of the features or consider increasing regularisation. Duality gap: 2.281e+07, tolerance: 1.566e+07\n",
      "  model = cd_fast.enet_coordinate_descent(\n"
     ]
    }
   ],
   "source": [
    "lasso_model.fit(X_train_scaled, y_train)\n",
    "important_features = np.array(X.columns)[lasso_model.coef_ != 0]\n",
    "print(\"선택된 특성들:\", important_features)"
   ]
  },
  {
   "cell_type": "code",
   "execution_count": 10,
   "id": "8ba5bb5e",
   "metadata": {},
   "outputs": [
    {
     "name": "stdout",
     "output_type": "stream",
     "text": [
      "                     Feature   Coefficient\n",
      "7  Precipitation_Probability -27122.783240\n",
      "2         precipitation_form  11219.499567\n",
      "1              sky_condition  10897.874633\n",
      "6                  high_temp   8799.269525\n",
      "3                 wind_speed  -7820.645055\n",
      "0             wind_direction   4020.648589\n",
      "5                   low_temp  -2578.508385\n",
      "4                   humidity   1915.646916\n"
     ]
    }
   ],
   "source": [
    "coef_df = pd.DataFrame({\n",
    "    'Feature': X.columns,\n",
    "    'Coefficient': lasso_model.coef_\n",
    "})\n",
    "\n",
    "# 절댓값 기준 내림차순 정렬\n",
    "print(coef_df.sort_values(by='Coefficient', key=abs, ascending=False))"
   ]
  }
 ],
 "metadata": {
  "kernelspec": {
   "display_name": "base",
   "language": "python",
   "name": "python3"
  },
  "language_info": {
   "codemirror_mode": {
    "name": "ipython",
    "version": 3
   },
   "file_extension": ".py",
   "mimetype": "text/x-python",
   "name": "python",
   "nbconvert_exporter": "python",
   "pygments_lexer": "ipython3",
   "version": "3.12.7"
  }
 },
 "nbformat": 4,
 "nbformat_minor": 5
}
