{
 "cells": [
  {
   "cell_type": "code",
   "execution_count": 2,
   "id": "152ffcec",
   "metadata": {},
   "outputs": [],
   "source": [
    "import pandas as pd\n",
    "import numpy as np\n",
    "\n",
    "train=pd.read_csv('train.csv')\n",
    "test=pd.read_csv('test.csv')"
   ]
  },
  {
   "cell_type": "code",
   "execution_count": 3,
   "id": "cc7ddb7c",
   "metadata": {},
   "outputs": [],
   "source": [
    "from sklearn.linear_model import LinearRegression #sklearn 라이브러리에서 선형회귀(Linear Regression) 모델 임포트\n",
    "from sklearn.metrics import mean_absolute_error #sklearn 라이브러리에서 평균 절대 오차를 계산하는 함수 임포트\n",
    "\n",
    "X=train.drop(columns=['number_of_rentals', 'date_time'])\n",
    "X_test=test.drop(columns=['date_time'])\n",
    "\n",
    "y=train['number_of_rentals']"
   ]
  },
  {
   "cell_type": "code",
   "execution_count": 7,
   "id": "0c287f47",
   "metadata": {},
   "outputs": [
    {
     "name": "stdout",
     "output_type": "stream",
     "text": [
      "train nmae: 0.30511369010585027\n",
      "valid nmae: 0.30211820413910767\n"
     ]
    }
   ],
   "source": [
    "from sklearn.preprocessing import StandardScaler\n",
    "from sklearn.linear_model import Ridge\n",
    "from sklearn.model_selection import train_test_split\n",
    "from sklearn.metrics import mean_absolute_error\n",
    "import numpy as np\n",
    "\n",
    "# 데이터 분할\n",
    "X_train, X_valid, y_train, y_valid = train_test_split(X, y, test_size=0.2, random_state=42)\n",
    "\n",
    "# 데이터 스케일링 (X만 스케일링)\n",
    "scaler = StandardScaler()\n",
    "X_train_scaled = scaler.fit_transform(X_train)\n",
    "X_valid_scaled = scaler.transform(X_valid)\n",
    "X_test_scaled = scaler.transform(X_test)\n",
    "\n",
    "# 모델 학습 (alpha 값 조정 가능)\n",
    "ridge_model = Ridge(alpha=0.01, random_state=42)\n",
    "ridge_model.fit(X_train_scaled, y_train)\n",
    "\n",
    "# 예측\n",
    "y_train_pred = ridge_model.predict(X_train_scaled)\n",
    "y_valid_pred = ridge_model.predict(X_valid_scaled)\n",
    "\n",
    "# NMAE 계산\n",
    "nmae_train = mean_absolute_error(y_train, y_train_pred) / np.mean(y_train)\n",
    "nmae_valid = mean_absolute_error(y_valid, y_valid_pred) / np.mean(y_valid)\n",
    "\n",
    "print('train nmae:', nmae_train)\n",
    "print('valid nmae:', nmae_valid)\n"
   ]
  }
 ],
 "metadata": {
  "kernelspec": {
   "display_name": "base",
   "language": "python",
   "name": "python3"
  },
  "language_info": {
   "codemirror_mode": {
    "name": "ipython",
    "version": 3
   },
   "file_extension": ".py",
   "mimetype": "text/x-python",
   "name": "python",
   "nbconvert_exporter": "python",
   "pygments_lexer": "ipython3",
   "version": "3.12.7"
  }
 },
 "nbformat": 4,
 "nbformat_minor": 5
}
