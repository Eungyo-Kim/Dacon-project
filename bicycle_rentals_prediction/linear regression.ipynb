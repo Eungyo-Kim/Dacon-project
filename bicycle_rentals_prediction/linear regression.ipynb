{
 "cells": [
  {
   "cell_type": "code",
   "execution_count": 9,
   "id": "90ef13f5",
   "metadata": {},
   "outputs": [],
   "source": [
    "import pandas as pd\n",
    "import numpy as np\n",
    "\n",
    "train=pd.read_csv('train.csv')\n",
    "test=pd.read_csv('test.csv')"
   ]
  },
  {
   "cell_type": "code",
   "execution_count": 10,
   "id": "43143a08",
   "metadata": {},
   "outputs": [],
   "source": [
    "from sklearn.linear_model import LinearRegression #sklearn 라이브러리에서 선형회귀(Linear Regression) 모델 임포트\n",
    "from sklearn.metrics import mean_absolute_error #sklearn 라이브러리에서 평균 절대 오차를 계산하는 함수 임포트\n",
    "\n",
    "X=train.drop(columns=['number_of_rentals', 'date_time', 'wind_direction', 'low_temp', 'humidity'])\n",
    "X_test=test.drop(columns=['date_time', 'wind_direction', 'low_temp', 'humidity'])\n",
    "\n",
    "y=train['number_of_rentals']"
   ]
  },
  {
   "cell_type": "code",
   "execution_count": 11,
   "id": "e6048783",
   "metadata": {},
   "outputs": [
    {
     "name": "stdout",
     "output_type": "stream",
     "text": [
      "train nmae: 0.315270094066131\n",
      "valid nmae: 0.30129670596853114\n"
     ]
    }
   ],
   "source": [
    "from sklearn.preprocessing import StandardScaler\n",
    "from sklearn.linear_model import Ridge\n",
    "from sklearn.model_selection import train_test_split\n",
    "from sklearn.metrics import mean_absolute_error\n",
    "import numpy as np\n",
    "\n",
    "X_train, X_valid, y_train, y_valid = train_test_split(X, y, test_size=0.2, random_state=42)\n",
    "\n",
    "# 데이터 스케일링 (X만 스케일링)\n",
    "scaler = StandardScaler()\n",
    "X_train_scaled = scaler.fit_transform(X_train)\n",
    "X_valid_scaled = scaler.transform(X_valid)\n",
    "X_test_scaled = scaler.transform(X_test)\n",
    "\n",
    "model=LinearRegression()\n",
    "model.fit(X_train_scaled, y_train)\n",
    "\n",
    "train_pred=model.predict(X_train_scaled) #train set으로 예측값 생성\n",
    "train_valid=model.predict(X_valid_scaled) #valid set으로 예측값 생성\n",
    "test_pred=model.predict(X_test_scaled) #test set으로 예측값 생성\n",
    "\n",
    "nmae_train=mean_absolute_error(y_train, train_pred)/np.mean(y_train) #train set의 평균 절대 오차 계산\n",
    "nmae_valid=mean_absolute_error(y_valid, train_valid)/np.mean(y_valid) #valid set의 평균 절대 오차 계산\n",
    "\n",
    "print('train nmae:', nmae_train) #train set의 평균 절대 오차 출력\n",
    "print('valid nmae:', nmae_valid) #valid set의 평균 절대 오차 출력\n"
   ]
  }
 ],
 "metadata": {
  "kernelspec": {
   "display_name": "base",
   "language": "python",
   "name": "python3"
  },
  "language_info": {
   "codemirror_mode": {
    "name": "ipython",
    "version": 3
   },
   "file_extension": ".py",
   "mimetype": "text/x-python",
   "name": "python",
   "nbconvert_exporter": "python",
   "pygments_lexer": "ipython3",
   "version": "3.12.7"
  }
 },
 "nbformat": 4,
 "nbformat_minor": 5
}
