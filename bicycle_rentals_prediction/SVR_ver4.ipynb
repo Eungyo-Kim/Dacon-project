{
 "cells": [
  {
   "cell_type": "code",
   "execution_count": 7,
   "id": "6a13a935",
   "metadata": {},
   "outputs": [
    {
     "name": "stdout",
     "output_type": "stream",
     "text": [
      "Train NMAE: 0.1609098224974924\n",
      "Validation NMAE: 0.1967302039950036\n"
     ]
    }
   ],
   "source": [
    "import numpy as np\n",
    "import pandas as pd\n",
    "\n",
    "train=pd.read_csv('train.csv')\n",
    "test=pd.read_csv('test.csv')\n",
    "submission=pd.read_csv('sample_submission.csv')\n",
    "\n",
    "\n",
    "\n",
    "def year(date_time):\n",
    "    return int(date_time[:4])\n",
    "\n",
    "def month(date_time):\n",
    "    return int(date_time[5:7])\n",
    "\n",
    "#적용\n",
    "train['year'] = train['date_time'].apply(year)\n",
    "test['year'] = test['date_time'].apply(year)\n",
    "\n",
    "train['month'] = train['date_time'].apply(month)\n",
    "test['month'] = test['date_time'].apply(month)\n",
    "\n",
    "#date_time 제거\n",
    "train=train.drop(['date_time'], axis=1)\n",
    "test=test.drop(['date_time'], axis=1)\n",
    "\n",
    "X=train.drop(columns=['number_of_rentals', 'wind_direction'])\n",
    "train['number_of_rentals'] = np.log(train['number_of_rentals'])  # 자연 로그\n",
    "y=train['number_of_rentals']\n",
    "\n",
    "from sklearn.model_selection import KFold\n",
    "kf = KFold(n_splits=5, shuffle=True, random_state=42)\n",
    "for train_idx, valid_idx in kf.split(X):\n",
    "    X_train, X_valid = X.iloc[train_idx], X.iloc[valid_idx]\n",
    "    y_train, y_valid = y.iloc[train_idx], y.iloc[valid_idx]\n",
    "\n",
    "\n",
    "from sklearn.preprocessing import StandardScaler\n",
    "sc = StandardScaler()\n",
    "X_train_scaled = sc.fit_transform(X_train)\n",
    "X_valid_scaled = sc.transform(X_valid)\n",
    "X_test_scaled = sc.transform(test.drop(columns=['wind_direction']))\n",
    "\n",
    "\n",
    "from sklearn.svm import SVR\n",
    "model=SVR(kernel='rbf', C=5.0, epsilon=0.1, gamma=0.01\n",
    "          )\n",
    "model.fit(X_train_scaled, y_train)\n",
    "\n",
    "y_train_pred = model.predict(X_train_scaled)\n",
    "y_valid_pred = model.predict(X_valid_scaled)\n",
    "y_test_pred = model.predict(X_test_scaled)\n",
    "\n",
    "y_train_pred_original=np.exp(y_train_pred)\n",
    "y_valid_pred_original=np.exp(y_valid_pred)\n",
    "y_test_pred_original=np.exp(y_test_pred)\n",
    "\n",
    "def nmae(y_true, y_pred):\n",
    "    return np.mean(np.abs((y_true - y_pred) / y_true))\n",
    "\n",
    "train_nmae = nmae(np.exp(y_train), y_train_pred_original)\n",
    "valid_nmae = nmae(np.exp(y_valid), y_valid_pred_original)\n",
    "\n",
    "print(f\"Train NMAE: {train_nmae:}\")\n",
    "print(f\"Validation NMAE: {valid_nmae:}\")\n",
    "\n",
    "submission['number_of_rentals']=y_test_pred_original\n",
    "submission.to_csv('SVR_ver4_submission.csv', index=False)\n"
   ]
  },
  {
   "cell_type": "code",
   "execution_count": null,
   "id": "5ffd845d",
   "metadata": {},
   "outputs": [],
   "source": [
    "import os\n",
    "import pandas as pd\n",
    "\n",
    "folder_path = r\"c:\\Users\\김은교\\OneDrive\\바탕 화면\\BRAIN\\Dacon-project\\bicycle_rentals_prediction\"\n",
    "file_list = os.listdir(folder_path)\n",
    "\n",
    "for filename in file_list:\n",
    "    file_path = os.path.join(folder_path, filename)\n",
    "    try:\n",
    "        if filename.endswith(\".txt\"):\n",
    "            with open(file_path, \"r\", encoding=\"utf-8\") as file:\n",
    "                content = file.read()\n",
    "                print(content[:200])  # 앞부분만 출력\n",
    "\n",
    "        elif filename.endswith(\".csv\"):\n",
    "            df = pd.read_csv(file_path, encoding=\"utf-8\")\n",
    "            print(df.head())\n",
    "\n",
    "        else:\n",
    "            print(f\"Skipping unsupported file type: {filename}\")\n",
    "\n",
    "    except PermissionError:\n",
    "        print(f\"Permission denied: {file_path}\")\n",
    "    except IsADirectoryError:\n",
    "        print(f\"Skipping directory: {file_path}\")\n",
    "    except UnicodeDecodeError:\n",
    "        print(f\"Encoding error: {file_path}\")\n"
   ]
  },
  {
   "cell_type": "code",
   "execution_count": 3,
   "id": "466676c7",
   "metadata": {},
   "outputs": [
    {
     "name": "stdout",
     "output_type": "stream",
     "text": [
      "Best params: {'C': 5, 'epsilon': 0.1, 'gamma': 0.05}\n"
     ]
    }
   ],
   "source": [
    "from sklearn.model_selection import GridSearchCV\n",
    "\n",
    "param_grid = {\n",
    "    'C': [0.5, 0.1, 1, 5, 10, 50],\n",
    "    'epsilon': [0.1, 0.2, 0.3, 0.4, 0.5],\n",
    "    'gamma': [0.01, 0.05, 0.1, 0.5, 'scale']\n",
    "}\n",
    "\n",
    "from sklearn.metrics import make_scorer\n",
    "\n",
    "def NMAE(true, pred):\n",
    "    return np.mean(np.abs(true - pred) / true)\n",
    "NMAE_scorer = make_scorer(NMAE, greater_is_better=False) # NMAE가 작을수록 좋음\n",
    "\n",
    "grid = GridSearchCV(SVR(kernel='rbf'), param_grid, scoring=NMAE_scorer, cv=5, n_jobs=1)\n",
    "grid.fit(X_train_scaled, y_train)\n",
    "\n",
    "print(\"Best params:\", grid.best_params_)\n"
   ]
  }
 ],
 "metadata": {
  "kernelspec": {
   "display_name": "base",
   "language": "python",
   "name": "python3"
  },
  "language_info": {
   "codemirror_mode": {
    "name": "ipython",
    "version": 3
   },
   "file_extension": ".py",
   "mimetype": "text/x-python",
   "name": "python",
   "nbconvert_exporter": "python",
   "pygments_lexer": "ipython3",
   "version": "3.12.7"
  }
 },
 "nbformat": 4,
 "nbformat_minor": 5
}
